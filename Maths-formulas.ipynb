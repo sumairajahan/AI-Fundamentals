{
 "cells": [
  {
   "cell_type": "code",
   "execution_count": 7,
   "id": "8bafcb6e-e201-4694-a6a9-c3278ea6fc58",
   "metadata": {},
   "outputs": [
    {
     "name": "stdin",
     "output_type": "stream",
     "text": [
      "enter a mass: 10\n",
      "enter speed: 15\n"
     ]
    },
    {
     "name": "stdout",
     "output_type": "stream",
     "text": [
      "150\n"
     ]
    }
   ],
   "source": [
    "#nasted conditions\n",
    "m=int(input(\"enter a mass:\"))\n",
    "a=int(input(\"enter speed:\"))\n",
    "f=m*a\n",
    "print(f)\n"
   ]
  },
  {
   "cell_type": "code",
   "execution_count": 9,
   "id": "1d3832cd-6372-4821-97b4-ce43a0f3af4a",
   "metadata": {},
   "outputs": [
    {
     "name": "stdin",
     "output_type": "stream",
     "text": [
      "enter a distance: 8\n",
      "enter time: 4\n"
     ]
    },
    {
     "name": "stdout",
     "output_type": "stream",
     "text": [
      "2.0\n"
     ]
    }
   ],
   "source": [
    "d=int(input(\"enter a distance:\"))\n",
    "t=int(input(\"enter time:\"))\n",
    "v=d/t\n",
    "print(v)"
   ]
  },
  {
   "cell_type": "code",
   "execution_count": 11,
   "id": "a1d40f80-6a0d-459c-a6f9-d5b7a71769d1",
   "metadata": {},
   "outputs": [
    {
     "name": "stdin",
     "output_type": "stream",
     "text": [
      "enter length: 4\n",
      "enter width: 6\n"
     ]
    },
    {
     "name": "stdout",
     "output_type": "stream",
     "text": [
      "24\n"
     ]
    }
   ],
   "source": [
    "L=int(input(\"enter length:\"))\n",
    "W=int(input(\"enter width:\"))\n",
    "A=L*W\n",
    "print(A)"
   ]
  },
  {
   "cell_type": "code",
   "execution_count": 21,
   "id": "b4f8fe11-1b9c-483c-b679-6fbc6b088fc5",
   "metadata": {},
   "outputs": [
    {
     "name": "stdin",
     "output_type": "stream",
     "text": [
      "enter volocity: 4\n",
      "enter acceleration: 3\n",
      "enter time: 8\n"
     ]
    },
    {
     "name": "stdout",
     "output_type": "stream",
     "text": [
      "128.0\n"
     ]
    }
   ],
   "source": [
    "vi=int(input(\"enter volocity:\"))\n",
    "a=int(input(\"enter acceleration:\"))\n",
    "t=int(input(\"enter time:\"))\n",
    "\n",
    "s=(vi*t)+1/2(*a*(t**2))\n",
    "\n",
    "print(s)"
   ]
  },
  {
   "cell_type": "code",
   "execution_count": 29,
   "id": "3fdbd79d-722c-4252-8c5f-d442d9fe3cb3",
   "metadata": {},
   "outputs": [
    {
     "name": "stdin",
     "output_type": "stream",
     "text": [
      "enter a mass: 5\n",
      "enter a velocity: 10\n"
     ]
    },
    {
     "name": "stdout",
     "output_type": "stream",
     "text": [
      "250.0\n"
     ]
    }
   ],
   "source": [
    "m=int(input(\"enter a mass:\"))\n",
    "v=int(input(\"enter a velocity:\"))\n",
    "KE=1/2*(m*v**2)\n",
    "print(KE)"
   ]
  },
  {
   "cell_type": "code",
   "execution_count": 31,
   "id": "cdf22444-12e9-40e9-abf0-974f49d090e5",
   "metadata": {},
   "outputs": [
    {
     "name": "stdin",
     "output_type": "stream",
     "text": [
      "enter x1: 2\n",
      "enter x2: 4\n",
      "enter y2: 8\n",
      "enter y2: 4\n"
     ]
    },
    {
     "name": "stdout",
     "output_type": "stream",
     "text": [
      "-2\n"
     ]
    }
   ],
   "source": [
    "x1=int(input(\"enter x1:\"))\n",
    "x2=int(input(\"enter x2:\"))\n",
    "y1=int(input(\"enter y2:\"))\n",
    "y2=int(input(\"enter y2:\"))\n",
    "d=(x2-x1)+(y2-y1)\n",
    "print(d)"
   ]
  },
  {
   "cell_type": "code",
   "execution_count": 1,
   "id": "4096e69c-0af4-4eae-82e2-8ff69f26378d",
   "metadata": {},
   "outputs": [
    {
     "name": "stdin",
     "output_type": "stream",
     "text": [
      "enter initial velocity: 45\n",
      "enter acceleration: 34\n",
      "enter time: 7\n"
     ]
    },
    {
     "name": "stdout",
     "output_type": "stream",
     "text": [
      "855.5\n"
     ]
    }
   ],
   "source": [
    "vi=float(input(\"enter initial velocity:\"))\n",
    "a=float(input(\"enter acceleration:\"))\n",
    "t=float(input(\"enter time:\"))\n",
    "VF=(vi+a*(t**2))/2\n",
    "print(VF)\n"
   ]
  },
  {
   "cell_type": "code",
   "execution_count": 11,
   "id": "aedb48ae-dd55-4931-82ad-2e896d49f052",
   "metadata": {},
   "outputs": [
    {
     "name": "stdin",
     "output_type": "stream",
     "text": [
      "enter a number: 10\n",
      "enter a number: 15\n",
      "Enter operation to be performed +\n"
     ]
    },
    {
     "name": "stdout",
     "output_type": "stream",
     "text": [
      "Addition of number is: 25\n"
     ]
    }
   ],
   "source": [
    "# make a calculator\n",
    "a=int(input(\"enter a number:\"))\n",
    "b=int(input(\"enter a number:\"))\n",
    "operator=input(\"Enter operation to be performed:\")\n",
    "\n",
    "add=a+b\n",
    "sub=a-b\n",
    "mil=a*b\n",
    "div=a/b\n",
    "if(operator=='+'): \n",
    "   print(\"Addition of number is:\",add)\n",
    "elif(operator=='-'):\n",
    "    print(\"Subtraction of number is:\",sub)\n",
    "elif(operator=='/'):\n",
    "    print(\"Division of number is:\",div)\n",
    "elif(operator=='*'):\n",
    "    print(\"multiplication of number is:\",mul)\n",
    "else:\n",
    "    print(\"Iivalid operator\")"
   ]
  },
  {
   "cell_type": "code",
   "execution_count": null,
   "id": "1cb0893a-20bb-4a74-a778-8cde5b3e2a9d",
   "metadata": {},
   "outputs": [],
   "source": []
  }
 ],
 "metadata": {
  "kernelspec": {
   "display_name": "Python 3 (ipykernel)",
   "language": "python",
   "name": "python3"
  },
  "language_info": {
   "codemirror_mode": {
    "name": "ipython",
    "version": 3
   },
   "file_extension": ".py",
   "mimetype": "text/x-python",
   "name": "python",
   "nbconvert_exporter": "python",
   "pygments_lexer": "ipython3",
   "version": "3.12.4"
  }
 },
 "nbformat": 4,
 "nbformat_minor": 5
}
