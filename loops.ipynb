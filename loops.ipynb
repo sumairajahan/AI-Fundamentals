{
 "cells": [
  {
   "cell_type": "code",
   "execution_count": 5,
   "id": "d53a2144-2863-4916-b250-c52a7c65d691",
   "metadata": {},
   "outputs": [
    {
     "name": "stdout",
     "output_type": "stream",
     "text": [
      "Hello World\n",
      "Hello World\n",
      "Hello World\n",
      "Hello World\n",
      "Hello World\n"
     ]
    }
   ],
   "source": [
    " str=\"Hello World\"\n",
    "for i in range(5):\n",
    "    print(str)"
   ]
  },
  {
   "cell_type": "code",
   "execution_count": 9,
   "id": "9f79c59e-c1b1-4cfc-b471-33ea16f679ea",
   "metadata": {},
   "outputs": [
    {
     "name": "stdin",
     "output_type": "stream",
     "text": [
      "Enter a number 9\n"
     ]
    },
    {
     "name": "stdout",
     "output_type": "stream",
     "text": [
      "1  \n",
      "2  \n",
      "3  \n",
      "4  \n",
      "5  \n",
      "6  \n",
      "7  \n",
      "8  \n"
     ]
    }
   ],
   "source": [
    "num=int(input(\"Enter a number\"))\n",
    "for i in range (1,num):\n",
    "    print(i,\" \")"
   ]
  },
  {
   "cell_type": "code",
   "execution_count": 13,
   "id": "221aea2d-aa53-416c-bcb5-e482059edce5",
   "metadata": {},
   "outputs": [
    {
     "name": "stdout",
     "output_type": "stream",
     "text": [
      "2\n",
      "4\n",
      "6\n",
      "8\n",
      "10\n",
      "12\n",
      "14\n",
      "16\n",
      "18\n",
      "20\n",
      "22\n",
      "24\n",
      "26\n",
      "28\n",
      "30\n",
      "32\n",
      "34\n",
      "36\n",
      "38\n",
      "40\n",
      "42\n",
      "44\n",
      "46\n",
      "48\n",
      "50\n",
      "52\n",
      "54\n",
      "56\n",
      "58\n",
      "60\n",
      "62\n",
      "64\n",
      "66\n",
      "68\n",
      "70\n",
      "72\n",
      "74\n",
      "76\n",
      "78\n",
      "80\n",
      "82\n",
      "84\n",
      "86\n",
      "88\n",
      "90\n",
      "92\n",
      "94\n",
      "96\n",
      "98\n"
     ]
    }
   ],
   "source": [
    "for i in range(1,100):\n",
    "    if (i%2==0):\n",
    "        print(i)"
   ]
  },
  {
   "cell_type": "code",
   "execution_count": 27,
   "id": "55da5db5-ed14-4e3a-a8db-3877eaa4f1f2",
   "metadata": {},
   "outputs": [
    {
     "name": "stdout",
     "output_type": "stream",
     "text": [
      "[0, 2, 4, 6, 8]\n"
     ]
    }
   ],
   "source": [
    "### while loop\n",
    "even\n",
    "\n",
    "i=0\n",
    "n=10\n",
    "while(i<n):\n",
    "    if (i%2==0):\n",
    "        even.append(i)\n",
    "    i=i+1;\n",
    "print(even)\n",
    "        "
   ]
  },
  {
   "cell_type": "code",
   "execution_count": 2,
   "id": "fc30b017-1ebf-4639-bdb7-14f5a9d695b8",
   "metadata": {},
   "outputs": [
    {
     "name": "stdin",
     "output_type": "stream",
     "text": [
      "enter any number: 9\n"
     ]
    },
    {
     "name": "stdout",
     "output_type": "stream",
     "text": [
      "too high\n"
     ]
    },
    {
     "name": "stdin",
     "output_type": "stream",
     "text": [
      "enter any number 3\n"
     ]
    },
    {
     "name": "stdout",
     "output_type": "stream",
     "text": [
      "too low\n"
     ]
    },
    {
     "name": "stdin",
     "output_type": "stream",
     "text": [
      "enter any number 6\n"
     ]
    },
    {
     "name": "stdout",
     "output_type": "stream",
     "text": [
      "too low\n"
     ]
    },
    {
     "name": "stdin",
     "output_type": "stream",
     "text": [
      "enter any number 1\n"
     ]
    },
    {
     "name": "stdout",
     "output_type": "stream",
     "text": [
      "too low\n"
     ]
    },
    {
     "name": "stdin",
     "output_type": "stream",
     "text": [
      "enter any number 4\n"
     ]
    },
    {
     "name": "stdout",
     "output_type": "stream",
     "text": [
      "too low\n"
     ]
    },
    {
     "name": "stdin",
     "output_type": "stream",
     "text": [
      "enter any number 7\n"
     ]
    },
    {
     "name": "stdout",
     "output_type": "stream",
     "text": [
      "you have guessed secret number\n"
     ]
    }
   ],
   "source": [
    "secret_number=7\n",
    "guess=int(input(\"enter any number:\"))\n",
    "\n",
    "while guess!=secret_number:\n",
    "    if(guess > secret_number):\n",
    "        print(\"too high\")\n",
    "    elif(guess<secret_number):\n",
    "        print(\"too low\")\n",
    "    guess=int(input(\"enter any number\"))\n",
    "print(\"you have guessed secret number\")"
   ]
  },
  {
   "cell_type": "code",
   "execution_count": null,
   "id": "228a40b9-9b9b-4cf3-a30d-c83298ede763",
   "metadata": {},
   "outputs": [],
   "source": [
    "###FUNCTIONS(physical entities)\n",
    "def name_of_function(paremeter....n):\n",
    "        Body\n",
    "    \n",
    "#function calling\n",
    "name_of_function(arguments)\n",
    "\n",
    "* task,pass by a referance"
   ]
  },
  {
   "cell_type": "code",
   "execution_count": null,
   "id": "415b6739-da03-4feb-a0a8-c2fad36e8c37",
   "metadata": {},
   "outputs": [],
   "source": [
    "e.g of function\n",
    "def sum():\n",
    "    a=10\n",
    "    b=20\n",
    "    sum=a+b\n",
    "    return sum\n",
    "    sum()\n",
    "    output\n",
    "    30"
   ]
  },
  {
   "cell_type": "code",
   "execution_count": 3,
   "id": "0d834e86-5786-4107-89af-d5dba85dd314",
   "metadata": {},
   "outputs": [
    {
     "data": {
      "text/plain": [
       "375"
      ]
     },
     "execution_count": 3,
     "metadata": {},
     "output_type": "execute_result"
    }
   ],
   "source": [
    "def area_of_arc():\n",
    "    length=15\n",
    "    width=25\n",
    "    area=length*width\n",
    "    return area\n",
    "\n",
    "area_of_arc()"
   ]
  },
  {
   "cell_type": "code",
   "execution_count": 14,
   "id": "3fb97e02-6115-4cc1-8cc2-0f2a6debce35",
   "metadata": {},
   "outputs": [
    {
     "name": "stdin",
     "output_type": "stream",
     "text": [
      "enter a number: 15\n"
     ]
    },
    {
     "name": "stdout",
     "output_type": "stream",
     "text": [
      "[0, 2, 4, 6, 8, 10, 12, 14]\n"
     ]
    }
   ],
   "source": [
    "def function(a):\n",
    "    list=[]\n",
    "    i=0\n",
    "    while (i<a):\n",
    "        if(i%2==0):\n",
    "             list.append(i)\n",
    "        i=i+1\n",
    "    print(list)\n",
    "\n",
    "limit=int(input(\"enter a number:\"))\n",
    "function(limit)\n",
    "             \n",
    "\n",
    "    "
   ]
  },
  {
   "cell_type": "code",
   "execution_count": 16,
   "id": "7913a890-ee18-4748-8dec-120a72966ddc",
   "metadata": {},
   "outputs": [
    {
     "data": {
      "text/plain": [
       "270"
      ]
     },
     "execution_count": 16,
     "metadata": {},
     "output_type": "execute_result"
    }
   ],
   "source": [
    "### GIOBAL AND LOCAL FUNCTION\n",
    "def sum():\n",
    "    x=15\n",
    "    y=18\n",
    "    sum=x*y\n",
    "    return sum\n",
    "sum()"
   ]
  },
  {
   "cell_type": "code",
   "execution_count": 18,
   "id": "0e737fe3-214b-4ccd-9007-2ce385e5cc90",
   "metadata": {},
   "outputs": [
    {
     "data": {
      "text/plain": [
       "6"
      ]
     },
     "execution_count": 18,
     "metadata": {},
     "output_type": "execute_result"
    }
   ],
   "source": [
    "def diff():\n",
    "    a=25\n",
    "    b=19\n",
    "    diff=a-b\n",
    "    return diff\n",
    "diff()"
   ]
  },
  {
   "cell_type": "code",
   "execution_count": 1,
   "id": "b86af017-e8f7-484f-afb1-bb8d9075d8e9",
   "metadata": {},
   "outputs": [
    {
     "data": {
      "text/plain": [
       "94"
      ]
     },
     "execution_count": 1,
     "metadata": {},
     "output_type": "execute_result"
    }
   ],
   "source": [
    "### POSITIONAL ARGUMENTS(args)\n",
    "\n",
    "def add_numbers(*args):\n",
    "    sum=0\n",
    "    for numbers in args:\n",
    "        sum+=numbers\n",
    "    return sum\n",
    "add_numbers(15,12,13,17,18,19)"
   ]
  },
  {
   "cell_type": "code",
   "execution_count": 19,
   "id": "7aeb9846-818e-4f46-b235-dfad0943b1fc",
   "metadata": {},
   "outputs": [
    {
     "name": "stdin",
     "output_type": "stream",
     "text": [
      "enter character:  a\n",
      "enter character:  y\n",
      "enter character:  z\n"
     ]
    },
    {
     "name": "stdout",
     "output_type": "stream",
     "text": [
      "['a', 'y']\n"
     ]
    }
   ],
   "source": [
    "def VOWELS(*args):\n",
    "    vowels=[]\n",
    "    list=[\"a\",\"e\",\"i\",\"o\",\"y\"]\n",
    "    for i in args:\n",
    "        for j in list:\n",
    "            if i==j:\n",
    "                vowels.append(i)\n",
    "    print(vowels)\n",
    "\n",
    "\n",
    "\n",
    "char5=input(\"enter character: \")\n",
    "char6=input(\"enter character: \")\n",
    "char7=input(\"enter character: \")\n",
    "VOWELS(char5,char6,char7)\n",
    "    \n",
    "\n",
    "\n",
    "\n",
    "\n",
    "\n",
    "\n",
    "    "
   ]
  },
  {
   "cell_type": "code",
   "execution_count": null,
   "id": "14792278-2fe1-4346-ac38-c2e462365d0b",
   "metadata": {},
   "outputs": [],
   "source": [
    "### KEYWORDS PARAMETERS\n",
    "def print_details(**kwargs)\n",
    "for value,key in kwargs:items():\n",
    "    print('f'{key}:{values}')"
   ]
  }
 ],
 "metadata": {
  "kernelspec": {
   "display_name": "Python 3 (ipykernel)",
   "language": "python",
   "name": "python3"
  },
  "language_info": {
   "codemirror_mode": {
    "name": "ipython",
    "version": 3
   },
   "file_extension": ".py",
   "mimetype": "text/x-python",
   "name": "python",
   "nbconvert_exporter": "python",
   "pygments_lexer": "ipython3",
   "version": "3.12.4"
  }
 },
 "nbformat": 4,
 "nbformat_minor": 5
}
