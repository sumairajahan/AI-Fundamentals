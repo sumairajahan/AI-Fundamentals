{
 "cells": [
  {
   "cell_type": "code",
   "execution_count": 3,
   "id": "0fad7122-ee98-4f39-8b6a-1df372d3e104",
   "metadata": {},
   "outputs": [
    {
     "name": "stdout",
     "output_type": "stream",
     "text": [
      "['charactar', 'wifi', '12', 'kivi', '12', '0', 'Age']\n",
      "['charactar', 'wifi', '12', 'kivi', '12', '0', 'Age']\n"
     ]
    }
   ],
   "source": [
    "A[ ]\n",
    "B=A\n",
    "B.append('Age')\n",
    "print(A)\n",
    "print(B)"
   ]
  },
  {
   "cell_type": "code",
   "execution_count": 5,
   "id": "3c851ace-54dd-4f1b-abe3-129b03bf67ee",
   "metadata": {},
   "outputs": [
    {
     "name": "stdout",
     "output_type": "stream",
     "text": [
      "['charactar', 'wifi', 'kivi', '12', '0', 'Age']\n",
      "['charactar', 'wifi', 'kivi', '12', '0', 'Age']\n"
     ]
    }
   ],
   "source": [
    "B.remove('12')\n",
    "print(A)\n",
    "print(B)"
   ]
  },
  {
   "cell_type": "code",
   "execution_count": 7,
   "id": "9bdf2c0e-deed-4726-a75f-28e58031c368",
   "metadata": {},
   "outputs": [
    {
     "name": "stdout",
     "output_type": "stream",
     "text": [
      "['charactar', 'wifi', 'kivi', '12', '0', 'Age']\n"
     ]
    }
   ],
   "source": [
    "B=A.copy()\n",
    "print(B)\n"
   ]
  },
  {
   "cell_type": "code",
   "execution_count": 13,
   "id": "4d65b4a4-91e2-45b5-8483-d14f49c8984f",
   "metadata": {},
   "outputs": [
    {
     "data": {
      "text/plain": [
       "('character', 'wifi', 'kivi', 12, 0, 'age', 12)"
      ]
     },
     "execution_count": 13,
     "metadata": {},
     "output_type": "execute_result"
    }
   ],
   "source": [
    "tp=('character','wifi','kivi',12,0,'age',12)\n",
    "tp\n"
   ]
  },
  {
   "cell_type": "code",
   "execution_count": 15,
   "id": "8678e962-c3c6-4cb5-ac2e-c60e20c0e67a",
   "metadata": {},
   "outputs": [
    {
     "name": "stdout",
     "output_type": "stream",
     "text": [
      "('apple', 0, 'banana', 15, 'orange', 1)\n"
     ]
    }
   ],
   "source": [
    "tp=(\"apple\",0,\"banana\",15,\"orange\")\n",
    "a=(1,)\n",
    "tp=tp+a\n",
    "print(tp)\n"
   ]
  },
  {
   "cell_type": "code",
   "execution_count": 17,
   "id": "76c11287-27c6-426e-b088-db3c7677d8df",
   "metadata": {},
   "outputs": [
    {
     "data": {
      "text/plain": [
       "6"
      ]
     },
     "execution_count": 17,
     "metadata": {},
     "output_type": "execute_result"
    }
   ],
   "source": [
    "len(tp)"
   ]
  },
  {
   "cell_type": "code",
   "execution_count": 3,
   "id": "9d19053d-ba98-433b-ad1f-bf45fd9d251d",
   "metadata": {},
   "outputs": [
    {
     "name": "stdin",
     "output_type": "stream",
     "text": [
      "Enter a string pink\n",
      "Enter a string yellow\n",
      "Enter a string green\n"
     ]
    },
    {
     "name": "stdout",
     "output_type": "stream",
     "text": [
      "('pink', 'yellow', 'green')\n",
      "<class 'tuple'>\n"
     ]
    }
   ],
   "source": [
    "A=[]\n",
    "A.append(input(\"Enter a string\"))\n",
    "A.append(input(\"Enter a string\"))\n",
    "A.append(input(\"Enter a string\"))\n",
    "res=tuple(A)\n",
    "print(res)\n",
    "print(type(res))"
   ]
  },
  {
   "cell_type": "code",
   "execution_count": 8,
   "id": "0e885ff1-a519-4a72-b6ec-6c26a762a286",
   "metadata": {},
   "outputs": [
    {
     "name": "stdin",
     "output_type": "stream",
     "text": [
      "Enter an integer 23\n",
      "Enter an integer 22\n",
      "Enter an integer 23\n",
      "Enter an integer 25\n",
      "Enter an integer 25\n"
     ]
    },
    {
     "name": "stdout",
     "output_type": "stream",
     "text": [
      "(23, 22, 23, 25, 25)\n"
     ]
    },
    {
     "name": "stdin",
     "output_type": "stream",
     "text": [
      "enter index to return a value 22\n"
     ]
    },
    {
     "name": "stdout",
     "output_type": "stream",
     "text": [
      "1\n"
     ]
    },
    {
     "name": "stdin",
     "output_type": "stream",
     "text": [
      "Enter a value to find frequency 25\n"
     ]
    },
    {
     "name": "stdout",
     "output_type": "stream",
     "text": [
      "2\n"
     ]
    }
   ],
   "source": [
    "B=[]\n",
    "B.append(int(input(\"Enter an integer\")))\n",
    "B.append(int(input(\"Enter an integer\")))\n",
    "B.append(int(input(\"Enter an integer\")))\n",
    "B.append(int(input(\"Enter an integer\")))\n",
    "B.append(int(input(\"Enter an integer\")))\n",
    "\n",
    "res=tuple(B)\n",
    "print(res)\n",
    "\n",
    "ind=int(input(\"enter index to return a value\"))\n",
    "print(res.index(ind))\n",
    "\n",
    "counter=int(input(\"Enter a value to find frequency\"))\n",
    "print(res.count(counter))\n",
    "\n",
    "maximum=input(\"enter a tupl to find max "
   ]
  },
  {
   "cell_type": "code",
   "execution_count": 7,
   "id": "36803df2-ceaf-4399-b1b3-3cc348cd39db",
   "metadata": {},
   "outputs": [
    {
     "name": "stdout",
     "output_type": "stream",
     "text": [
      "{'color1': 'red', 'color2': 'pink', 'color3': 'yellow'}\n"
     ]
    }
   ],
   "source": [
    "###DICTIONARIES\n",
    "my_dict={\"color1\":\"red\",\"color2\":\"pink\",\"color3\":\"yellow\",}\n",
    "print(my_dict)\n"
   ]
  },
  {
   "cell_type": "code",
   "execution_count": 5,
   "id": "bbf6a23b-5df6-4ccd-ae7b-14a567109bbf",
   "metadata": {},
   "outputs": [
    {
     "name": "stdin",
     "output_type": "stream",
     "text": [
      "enter a key: color\n",
      "enter a value: red\n"
     ]
    },
    {
     "name": "stdout",
     "output_type": "stream",
     "text": [
      "{'name': 'ali', 'Father name': 'faiz', 'age': 19, 'section': 'A', 'school': 'govt', 'subject': 'maths', 'marks': 85, 'rollno': 123, 'email': 'abc', 'adress': 'xyz', 'color': 'red'}\n"
     ]
    }
   ],
   "source": [
    "dict_2={\"name\": \"ali\",\"Father name\":\"faiz\",\"age\":19,\"section\":\"A\", \"school\": \"govt\",\"subject\":\"maths\",\"marks\":85,\"rollno\":123,\"email\":\"abc\",\"adress\":\"xyz\"}\n",
    "key=input(\"enter a key:\")\n",
    "value=input(\"enter a value:\")\n",
    "\n",
    "dict_2.update({key:value})\n",
    "print(dict_2)\n",
    "\n",
    "\n",
    "\n",
    "\n",
    "\n"
   ]
  },
  {
   "cell_type": "code",
   "execution_count": 9,
   "id": "ce9b1fb1-8d74-43dd-89b2-d16b40426c03",
   "metadata": {},
   "outputs": [
    {
     "name": "stdin",
     "output_type": "stream",
     "text": [
      "enter a key to  be deleted school\n"
     ]
    },
    {
     "name": "stdout",
     "output_type": "stream",
     "text": [
      "{'name': 'ali', 'Father name': 'faiz', 'age': 19, 'section': 'A', 'subject': 'maths', 'marks': 85, 'rollno': 123, 'email': 'abc', 'adress': 'xyz', 'color': 'red'}\n"
     ]
    }
   ],
   "source": [
    "del_key=input(\"enter a key to  be deleted\")\n",
    "dict_2.pop(del_key)\n",
    "print(dict_2)\n",
    "\n"
   ]
  },
  {
   "cell_type": "code",
   "execution_count": 11,
   "id": "a6b3073f-8050-4b1f-8dcd-0f1721e5a78e",
   "metadata": {},
   "outputs": [
    {
     "name": "stdout",
     "output_type": "stream",
     "text": [
      "dict_keys(['name', 'Father name', 'age', 'section', 'subject', 'marks', 'rollno', 'email', 'adress', 'color'])\n"
     ]
    }
   ],
   "source": [
    "print(dict_2.keys())"
   ]
  },
  {
   "cell_type": "code",
   "execution_count": 13,
   "id": "02cdc812-6642-41f2-801f-9f49ee77bf56",
   "metadata": {},
   "outputs": [
    {
     "name": "stdout",
     "output_type": "stream",
     "text": [
      "dict_values(['ali', 'faiz', 19, 'A', 'maths', 85, 123, 'abc', 'xyz', 'red'])\n"
     ]
    }
   ],
   "source": [
    "print(dict_2.values())"
   ]
  },
  {
   "cell_type": "code",
   "execution_count": 17,
   "id": "a4fa60b5-e099-4f47-ba97-5e08743c1e46",
   "metadata": {},
   "outputs": [
    {
     "name": "stdout",
     "output_type": "stream",
     "text": [
      "key is present in the dictionary\n"
     ]
    }
   ],
   "source": [
    "key=\"marks\"\n",
    "if(key in dict_2):\n",
    "    print(\"key is present in the dictionary\")\n",
    "else:\n",
    "    (\"key not found\")"
   ]
  },
  {
   "cell_type": "code",
   "execution_count": 7,
   "id": "ae0ce90c-aa03-4e7d-a38f-b9192ae0528e",
   "metadata": {},
   "outputs": [
    {
     "name": "stdout",
     "output_type": "stream",
     "text": [
      "1\n",
      "3\n"
     ]
    }
   ],
   "source": [
    "###loops\n",
    "#RANGE FUNCTION\n",
    "for i in range(1,5,2):\n",
    "    print(i)\n"
   ]
  },
  {
   "cell_type": "code",
   "execution_count": 19,
   "id": "9b815ca0-3d0d-4c19-a43e-d31fb62e6257",
   "metadata": {},
   "outputs": [
    {
     "name": "stdout",
     "output_type": "stream",
     "text": [
      "x,\n",
      "y\n",
      "z\n"
     ]
    },
    {
     "data": {
      "text/plain": [
       "3"
      ]
     },
     "execution_count": 19,
     "metadata": {},
     "output_type": "execute_result"
    }
   ],
   "source": [
    "list=[\"x,\",\"y\",\"z\"]\n",
    "for i in list:\n",
    "    print(i)\n",
    "len(list)"
   ]
  },
  {
   "cell_type": "code",
   "execution_count": 33,
   "id": "30543c92-c34e-4155-8ebf-a21cab20418d",
   "metadata": {},
   "outputs": [
    {
     "name": "stdout",
     "output_type": "stream",
     "text": [
      "0\n",
      "1\n",
      "2\n",
      "3\n",
      "4\n",
      "5\n",
      "6\n"
     ]
    }
   ],
   "source": [
    "list= [1,2,3,4,5,6,7]\n",
    "for i in range(len(list)):\n",
    "    print(i)"
   ]
  },
  {
   "cell_type": "code",
   "execution_count": 55,
   "id": "86941639-a6cd-4752-98e0-77ce85889b40",
   "metadata": {},
   "outputs": [
    {
     "name": "stdout",
     "output_type": "stream",
     "text": [
      "red\n",
      "blue\n",
      "green\n",
      "pink\n",
      "black\n",
      "yellow\n",
      "orange\n"
     ]
    }
   ],
   "source": [
    "#for loop\n",
    "str=[\"red\",\"blue\",\"green\",\"pink\",\"black\",\"yellow\",\"orange\"]\n",
    "for i in str:\n",
    "    print(i)\n"
   ]
  },
  {
   "cell_type": "code",
   "execution_count": 86,
   "id": "a15688fb-ae5e-4996-9ac0-ed9746ae3b66",
   "metadata": {},
   "outputs": [
    {
     "name": "stdout",
     "output_type": "stream",
     "text": [
      "[2, 4, 6, 8]\n"
     ]
    }
   ],
   "source": [
    "list_1=[1,2,3,4,5,6,7,8,9]\n",
    "even=[]\n",
    "for i in list_1:\n",
    "    if(i%2==0):\n",
    "        even.append(i)\n",
    "print(even)\n"
   ]
  },
  {
   "cell_type": "code",
   "execution_count": 96,
   "id": "c8d5b76e-35bf-42ef-a47f-262e50abcbd2",
   "metadata": {},
   "outputs": [
    {
     "name": "stdin",
     "output_type": "stream",
     "text": [
      "enter character: y\n"
     ]
    },
    {
     "name": "stdout",
     "output_type": "stream",
     "text": [
      "vowel\n"
     ]
    }
   ],
   "source": [
    "vowels=['a','e','i','o','y']\n",
    "char=input('enter character:')\n",
    "for i in vowels:\n",
    "    if char==i:\n",
    "        print('vowel') \n",
    "        break;\n",
    "\n"
   ]
  },
  {
   "cell_type": "code",
   "execution_count": null,
   "id": "0e49dc3b-1cde-4f13-993e-f04a481ab1ff",
   "metadata": {},
   "outputs": [],
   "source": [
    "#while loop\n",
    "syntax:while condition\n",
    "body\n",
    "incriment or decrement\n",
    "\n",
    "e.g\n",
    "n=10\n",
    "i=0\n",
    "while(i<n)\n",
    "++i\n",
    "if(i%2==0)\n",
    "print(\"even\")\n",
    "break;"
   ]
  },
  {
   "cell_type": "code",
   "execution_count": 106,
   "id": "da2c8465-8f8a-4e3c-9b75-1ac3f66a7c0a",
   "metadata": {},
   "outputs": [
    {
     "name": "stdout",
     "output_type": "stream",
     "text": [
      "[0, 2, 4, 6, 8, 10, 12, 14, 16, 18, 20, 22, 24, 26, 28]\n"
     ]
    }
   ],
   "source": [
    "even_number=[]\n",
    "N=30\n",
    "i=0\n",
    "while(i<N):\n",
    "    if(i%2==0):\n",
    "     even_number.append(i)\n",
    "    i+=1;\n",
    "print (even_number)\n",
    "          \n",
    "    \n",
    "\n"
   ]
  },
  {
   "cell_type": "code",
   "execution_count": null,
   "id": "4128f708-f1a3-4063-9614-2fb2106b16b4",
   "metadata": {},
   "outputs": [],
   "source": []
  }
 ],
 "metadata": {
  "kernelspec": {
   "display_name": "Python 3 (ipykernel)",
   "language": "python",
   "name": "python3"
  },
  "language_info": {
   "codemirror_mode": {
    "name": "ipython",
    "version": 3
   },
   "file_extension": ".py",
   "mimetype": "text/x-python",
   "name": "python",
   "nbconvert_exporter": "python",
   "pygments_lexer": "ipython3",
   "version": "3.12.4"
  }
 },
 "nbformat": 4,
 "nbformat_minor": 5
}
