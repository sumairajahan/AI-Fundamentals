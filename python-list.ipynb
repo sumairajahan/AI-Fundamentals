{
 "cells": [
  {
   "cell_type": "code",
   "execution_count": 13,
   "id": "b562f3ae-690d-477d-9e71-8ea30759df3f",
   "metadata": {},
   "outputs": [
    {
     "name": "stdin",
     "output_type": "stream",
     "text": [
      "Input a char a\n",
      "Input a number a\n",
      "Input a char b\n",
      "Input a number b\n",
      "Input a string c\n",
      "Input a string c\n",
      "input a char d\n"
     ]
    },
    {
     "name": "stdout",
     "output_type": "stream",
     "text": [
      "['a', 'a', 'b', 'b', 'c', 'c', 'd']\n"
     ]
    }
   ],
   "source": [
    "A=[]\n",
    "value1=input(\"Input a char\")\n",
    "value2=input(\"Input a number\")\n",
    "value3=input(\"Input a char\")\n",
    "value4=input(\"Input a number\")\n",
    "value5=input(\"Input a string\")\n",
    "value6=input(\"Input a string\")\n",
    "value7=input(\"input a char\")\n",
    "A.append(value1)\n",
    "A.append(value2)\n",
    "A.append(value3)\n",
    "A.append(value4)\n",
    "A.append(value5)\n",
    "A.append(value6)\n",
    "A.append(value7)\n",
    "\n",
    "print(A)\n",
    "        "
   ]
  },
  {
   "cell_type": "code",
   "execution_count": 15,
   "id": "a6521ed2-20eb-42b6-961f-916d3866f4a7",
   "metadata": {},
   "outputs": [
    {
     "name": "stdin",
     "output_type": "stream",
     "text": [
      "Enter the value to be removed: 3\n"
     ]
    },
    {
     "name": "stdout",
     "output_type": "stream",
     "text": [
      "['a', 'a', 'b', 'a', 'b', 'c', 'c', 'd']\n"
     ]
    }
   ],
   "source": [
    "location=int(input(\"Enter the value to be removed:\"))\n",
    "A.insert(location, \"a\")\n",
    "print(A)\n"
   ]
  },
  {
   "cell_type": "code",
   "execution_count": 17,
   "id": "d9597646-10ad-4c63-82fe-88ea9a2c5441",
   "metadata": {},
   "outputs": [
    {
     "name": "stdin",
     "output_type": "stream",
     "text": [
      "Enter the value to be removed: c\n"
     ]
    },
    {
     "name": "stdout",
     "output_type": "stream",
     "text": [
      "['a', 'a', 'b', 'a', 'b', 'c', 'd']\n"
     ]
    }
   ],
   "source": [
    "location=input(\"Enter a value to be removed:\")\n",
    "A.remove(location)\n",
    "print(A)\n",
    "               "
   ]
  },
  {
   "cell_type": "code",
   "execution_count": null,
   "id": "2a16f936-7050-485e-a9d4-bdc88fe0c32d",
   "metadata": {},
   "outputs": [],
   "source": []
  }
 ],
 "metadata": {
  "kernelspec": {
   "display_name": "Python 3 (ipykernel)",
   "language": "python",
   "name": "python3"
  },
  "language_info": {
   "codemirror_mode": {
    "name": "ipython",
    "version": 3
   },
   "file_extension": ".py",
   "mimetype": "text/x-python",
   "name": "python",
   "nbconvert_exporter": "python",
   "pygments_lexer": "ipython3",
   "version": "3.12.4"
  }
 },
 "nbformat": 4,
 "nbformat_minor": 5
}
