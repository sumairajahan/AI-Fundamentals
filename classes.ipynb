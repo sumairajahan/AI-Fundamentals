{
 "cells": [
  {
   "cell_type": "markdown",
   "id": "852c3116-5a98-41f9-b3bb-3e51b108191e",
   "metadata": {},
   "source": [
    "# object,class and function\n",
    "## class (image, structure,sketch),class is most efficent among  function and object.\n"
   ]
  },
  {
   "cell_type": "code",
   "execution_count": null,
   "id": "fe768040-3322-48f1-93d9-170c00fb55f1",
   "metadata": {},
   "outputs": [],
   "source": [
    "# Object Oriented Programming\n",
    "class Dog:\n",
    "    def__init__(self):  its the special function of class called constructor(init)\n",
    "\n",
    "\n",
    "class Dog:\n",
    "    def __init__(self):\n",
    "        pass"
   ]
  },
  {
   "cell_type": "code",
   "execution_count": 21,
   "id": "1302b39b-fae4-4ec1-ae9e-977f6258b178",
   "metadata": {},
   "outputs": [
    {
     "name": "stdout",
     "output_type": "stream",
     "text": [
      "pokzeee\n",
      "german shafhat\n",
      "3\n"
     ]
    }
   ],
   "source": [
    "class Dog:\n",
    "    def __init__(self,name,breed,age):\n",
    "        self.name=name\n",
    "        self.breed=breed\n",
    "        self.age=age\n",
    "    def display_name(self):\n",
    "        print(self.name)\n",
    "    def display_age(self):\n",
    "        print(self.age)\n",
    "    def display_breed(self):\n",
    "        print(self.breed)\n",
    "\n",
    "\n",
    "obj=Dog( \"pokzeee\",\"german shafhat\",3)\n",
    "obj.display_name()\n",
    "obj.display_breed()\n",
    "obj.display_age()\n"
   ]
  },
  {
   "cell_type": "code",
   "execution_count": null,
   "id": "92ccea74-680b-4a13-828d-020a5b5ae341",
   "metadata": {},
   "outputs": [],
   "source": [
    "class Book:\n",
    "    def name():\n",
    "        self.name=name\n",
    "        print(obj.name)\n",
    "    "
   ]
  },
  {
   "cell_type": "code",
   "execution_count": 17,
   "id": "bc4e2070-1ddd-4be9-b981-e66b033d35c4",
   "metadata": {},
   "outputs": [
    {
     "name": "stdin",
     "output_type": "stream",
     "text": [
      "enter name of printer abc\n",
      "enter size of printer 6\n",
      "enter color of printer black\n",
      "enter quality of printer medium\n",
      "enter brand of printer xyz\n",
      "enter shape of printer rectangular\n",
      "price of printer 3000\n"
     ]
    },
    {
     "name": "stdout",
     "output_type": "stream",
     "text": [
      "name of printer is: abc\n",
      "size of printer is: 6\n",
      "color of printer is: black\n",
      "quality of printer is: medium\n",
      "brand of printer is: xyz\n",
      "shape of printer is: rectangular\n",
      "price of printer is: 3000\n"
     ]
    }
   ],
   "source": [
    "class printer:\n",
    "    def __init__(self,name,size,color, quality,brand,shape,price):\n",
    "        self.name= name\n",
    "        self.size= size\n",
    "        self.color= color\n",
    "        self.quality= quality\n",
    "        self.brand= brand \n",
    "        self.shape = shape\n",
    "        self.price=price\n",
    "\n",
    "    def show_name(self):\n",
    "        print(\"name of printer is:\",name)\n",
    "    def show_size(self):\n",
    "        print(\"size of printer is:\",size)\n",
    "    def show_color(self):\n",
    "        print(\"color of printer is:\",color)\n",
    "    def show_quality(self):\n",
    "        print(\"quality of printer is:\",quality)\n",
    "    def show_brand(self):\n",
    "        print(\"brand of printer is:\",brand)\n",
    "    def show_shape(self):\n",
    "        print(\"shape of printer is:\",shape)\n",
    "    def show_price(self):\n",
    "        print(\"price of printer is:\",price)\n",
    "\n",
    "name=input(\"enter name of printer\")\n",
    "size=int(input(\"enter size of printer\"))\n",
    "color=input(\"enter color of printer\")\n",
    "quality=input(\"enter quality of printer\")\n",
    "brand=input(\"enter brand of printer\")\n",
    "shape=input(\"enter shape of printer\")\n",
    "price=int(input(\"price of printer\"))\n",
    "\n",
    "objprinter = printer(name,size,color, quality,brand,shape,price)\n",
    "\n",
    "objprinter.show_name()\n",
    "objprinter.show_size()\n",
    "objprinter.show_color()\n",
    "objprinter.show_quality()\n",
    "objprinter.show_brand()\n",
    "objprinter.show_shape()\n",
    "objprinter.show_price()"
   ]
  },
  {
   "cell_type": "code",
   "execution_count": 11,
   "id": "fb005ad0-40f3-46f2-ae5a-3bfa4746e2fc",
   "metadata": {},
   "outputs": [
    {
     "name": "stdin",
     "output_type": "stream",
     "text": [
      "enter name of book peer e kamil\n",
      "enter price of book 500\n",
      "enter pages of book 350\n"
     ]
    },
    {
     "name": "stdout",
     "output_type": "stream",
     "text": [
      "name of book is: peer e kamil\n",
      "price of book is: 500\n",
      "pages of book is: 350\n"
     ]
    }
   ],
   "source": [
    "class book:\n",
    "    def __init__(self,name,price,pages):\n",
    "        self.name= name\n",
    "        self.price=price\n",
    "        self.pages=pages\n",
    "    \n",
    "    def show_name(self):\n",
    "        print(\"name of book is:\",name)\n",
    "    def show_price(self):\n",
    "        print(\"price of book is:\",price)\n",
    "    def show_pages(self):\n",
    "        print(\"pages of book is:\",pages)\n",
    "\n",
    "name=input(\"enter name of book\")\n",
    "price=int(input(\"enter price of book\"))\n",
    "pages=int(input(\"enter pages of book\"))\n",
    "\n",
    "objbook = book(name,price,pages)\n",
    "\n",
    "objbook.show_name()\n",
    "objbook.show_price()\n",
    "objbook.show_pages()\n",
    "        \n",
    "\n"
   ]
  },
  {
   "cell_type": "code",
   "execution_count": 15,
   "id": "63bb542b-567b-4f5f-a7cb-167a7c949aed",
   "metadata": {},
   "outputs": [
    {
     "name": "stdout",
     "output_type": "stream",
     "text": [
      "Fido\n",
      "The dog barks.\n"
     ]
    }
   ],
   "source": [
    "class Animal:\n",
    "    def __init__(self, name):\n",
    "        self.name = name\n",
    "\n",
    "    def sound(self):\n",
    "        print(\"The animal makes a sound.\")\n",
    "\n",
    "class Dog(Animal):\n",
    "    def __init__(self, name, breed):\n",
    "        super().__init__(name)\n",
    "        self.breed = breed\n",
    "\n",
    "    def sound(self):\n",
    "        print(\"The dog barks.\")\n",
    "\n",
    "my_dog = Dog(\"Fido\", \"Golden Retriever\")\n",
    "print(my_dog.name)  # Output: Fido\n",
    "my_dog.sound()  # Output: The dog barks"
   ]
  },
  {
   "cell_type": "code",
   "execution_count": null,
   "id": "b42b2872-2bc5-4117-8b8b-bb1bfa117767",
   "metadata": {},
   "outputs": [],
   "source": []
  },
  {
   "cell_type": "code",
   "execution_count": 14,
   "id": "0034f19e-2438-4f06-a7f2-8db8004060b2",
   "metadata": {},
   "outputs": [
    {
     "name": "stdout",
     "output_type": "stream",
     "text": [
      "size of flower is: small\n",
      "size of flower is: small\n",
      "fragrance of flower is: sweet\n"
     ]
    }
   ],
   "source": [
    "### Example of Inheritance\n",
    "class flower :\n",
    "    def __init__(self,name,color):\n",
    "        self.name=name\n",
    "        self.color=color\n",
    "\n",
    "    def show_name(self):\n",
    "         print(\"name of flower is:\", self.name)\n",
    "\n",
    "    def show_color(self):\n",
    "         print(\"color of flower is:\", self.color)\n",
    "\n",
    "    def show_size(self):\n",
    "         print(\"size of flower is:\", self.size)\n",
    "\n",
    "class sunflower(flower):\n",
    "    def __init__(self,name,color,size ,fragrance):\n",
    "        super().__init__(name,color)\n",
    "        self.size=size\n",
    "        self.fragrance=fragrance\n",
    "        \n",
    "    \n",
    "    def show_fragrance(self):\n",
    "        print(f\"size of flower is: {self.size}\")\n",
    "        super().show_size()\n",
    "        print(\"fragrance of flower is:\", self.fragrance)\n",
    "var1=sunflower(\"sunflower\",\"yellow\",\"small\",\"sweet\")\n",
    "var1.show_fragrance()\n"
   ]
  },
  {
   "cell_type": "code",
   "execution_count": null,
   "id": "2916bb98-a88b-42ec-9532-c60ac0c555d0",
   "metadata": {},
   "outputs": [],
   "source": [
    " class Employee:"
   ]
  }
 ],
 "metadata": {
  "kernelspec": {
   "display_name": "Python 3 (ipykernel)",
   "language": "python",
   "name": "python3"
  },
  "language_info": {
   "codemirror_mode": {
    "name": "ipython",
    "version": 3
   },
   "file_extension": ".py",
   "mimetype": "text/x-python",
   "name": "python",
   "nbconvert_exporter": "python",
   "pygments_lexer": "ipython3",
   "version": "3.12.4"
  }
 },
 "nbformat": 4,
 "nbformat_minor": 5
}
